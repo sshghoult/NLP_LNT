{
 "cells": [
  {
   "cell_type": "code",
   "execution_count": 1,
   "metadata": {},
   "outputs": [
    {
     "name": "stderr",
     "output_type": "stream",
     "text": [
      "[nltk_data] Downloading package stopwords to\n",
      "[nltk_data]     C:\\Users\\sshghoult\\AppData\\Roaming\\nltk_data...\n",
      "[nltk_data]   Package stopwords is already up-to-date!\n"
     ]
    }
   ],
   "source": [
    "from spacy.lang.ru import Russian\n",
    "import spacy\n",
    "import pymorphy2\n",
    "import string\n",
    "\n",
    "import nltk\n",
    "nltk.download(\"stopwords\")\n",
    "from nltk.corpus import stopwords\n",
    "\n",
    "from typing import List, TextIO\n",
    "\n",
    "from collections import deque "
   ]
  },
  {
   "cell_type": "code",
   "execution_count": 2,
   "metadata": {},
   "outputs": [],
   "source": [
    "# Spacy Tokenization example\n",
    "sample_text = \"Съешь же этих мягких! французских, булок... да выпей чаю!?\"\n",
    "\n",
    "nlp = spacy.load('ru_core_news_sm')"
   ]
  },
  {
   "cell_type": "code",
   "execution_count": 3,
   "metadata": {},
   "outputs": [],
   "source": [
    "# morph = pymorphy2.MorphAnalyzer()\n",
    "# token_lemmas = [morph.parse(token)[0].normal_form for token in token_list]\n",
    "# token_lemmas"
   ]
  },
  {
   "cell_type": "code",
   "execution_count": 4,
   "metadata": {},
   "outputs": [],
   "source": [
    "\n",
    "    # это отвратительнейший дизайн архитектуры, нужно придумать что-то более адекватное\n",
    "    \n",
    "    # в идеале - имитация генератора\n",
    "    \n",
    "    # next -> следующий из внутреннего буфера -> если в буфере пусто, то взять чанк, очистить и положить в буфер\n",
    "    # как отделить выделение по предложениям от непрерывного в интерфейсах?\n",
    "    # взятие чанка overwritten, метод очистки в базовом классе\n",
    "    \n",
    "    # Паттерн сборки с возвращением self и сохранением буффера"
   ]
  },
  {
   "cell_type": "code",
   "execution_count": null,
   "metadata": {},
   "outputs": [],
   "source": [
    "class BaseLazyTextPreprocessor(object):\n",
    "    \"\"\"Ленивый препроцессор для очистки текста перед работой с моделями\"\"\"\n",
    "    def __init__(self, fp: TextIO, nlp, stopwords):\n",
    "        self.src = fp\n",
    "        self.nlp = nlp\n",
    "        self.stopwords = stopwords\n",
    "        self.stoppunct = set(string.punctuation).union({'...', '?!'})\n",
    "        self.endpunct = {'.', '!', '?'}\n",
    "        \n",
    "    \n",
    "    def preprocess(self, chunk: str):\n",
    "        doc = self.nlp(chunk)\n",
    "        cleaned = [token.lemma_ for token in doc if token.lemma_ not in self.stopwords and token.lemma_ != \" \" \n",
    "                   and token.lemma_ not in self.stoppunct]\n",
    "        return cleaned\n"
   ]
  },
  {
   "cell_type": "code",
   "execution_count": 11,
   "metadata": {},
   "outputs": [
    {
     "name": "stdout",
     "output_type": "stream",
     "text": [
      "['съешь', 'мягкий', 'французский', 'булка', 'выпей', 'чаять']\n"
     ]
    }
   ],
   "source": [
    "with open('tmp.txt', 'r', encoding='utf-8') as fp:\n",
    "    LTP = BaseLazyTextPreprocessor(fp, nlp, stopwords.words(\"russian\"))\n",
    "    print(LTP.preprocess(fp.read()))"
   ]
  },
  {
   "cell_type": "code",
   "execution_count": null,
   "metadata": {},
   "outputs": [],
   "source": [
    "class CollocationLazyTextProcessor(BaseLazyTextPreprocessor):\n",
    "    def __init__(self, fp: TextIO, nlp, stopwords):\n",
    "        super().__init__(fp, nlp, stopwords)\n",
    "        self.clean_buffer = deque()\n",
    "        \n",
    "    def __next__(self):\n",
    "        if len(self.clean_buffer) == 0:\n",
    "            self.__load_buffer()\n",
    "        return self.clean_buffer.pop()\n",
    "    \n",
    "    def __iter__(self):\n",
    "        return self\n",
    "    \n",
    "    def __load_buffer(self, size=5):\n",
    "        pass\n",
    "        # вычитать предложение, отправить его в препроцесс, положить в буффер\n",
    "        for _ in range(size):\n",
    "            subbuffer = []\n",
    "            ptr = ''\n",
    "            while ptr not in self.stoppunct:\n",
    "                ptr = self.src.read(1)\n",
    "                subbuffer.append(ptr)\n",
    "            cleaned = self.preprocess(''.join(subbuffer))\n",
    "            if cleaned:\n",
    "                self.clean_buffer.appendleft(cleaned)"
   ]
  },
  {
   "cell_type": "code",
   "execution_count": null,
   "metadata": {},
   "outputs": [],
   "source": [
    "with open('tmp.txt', 'r', encoding='utf-8') as fp:\n",
    "    LTP = CollocationLazyTextProcessor(fp, nlp, stopwords.words(\"russian\"))\n",
    "    for k in LTP:\n",
    "        print(k)"
   ]
  },
  {
   "cell_type": "code",
   "execution_count": null,
   "metadata": {},
   "outputs": [],
   "source": []
  }
 ],
 "metadata": {
  "kernelspec": {
   "display_name": "Python 3 (ipykernel)",
   "language": "python",
   "name": "python3"
  },
  "language_info": {
   "codemirror_mode": {
    "name": "ipython",
    "version": 3
   },
   "file_extension": ".py",
   "mimetype": "text/x-python",
   "name": "python",
   "nbconvert_exporter": "python",
   "pygments_lexer": "ipython3",
   "version": "3.7.13"
  }
 },
 "nbformat": 4,
 "nbformat_minor": 1
}
